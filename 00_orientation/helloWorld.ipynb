{
 "cells": [
  {
   "cell_type": "code",
   "execution_count": null,
   "id": "107a823d",
   "metadata": {},
   "outputs": [],
   "source": [
    "print(\"開発を行います！\")"
   ]
  },
  {
   "cell_type": "code",
   "execution_count": null,
   "id": "05978f3f",
   "metadata": {},
   "outputs": [],
   "source": [
    "print(\"Hello! World!\")\n",
    "print(\"こんにちは！　世界！\")"
   ]
  },
  {
   "cell_type": "code",
   "execution_count": 1,
   "id": "8d75f556",
   "metadata": {},
   "outputs": [
    {
     "name": "stdout",
     "output_type": "stream",
     "text": [
      "Hello! World!\n"
     ]
    }
   ],
   "source": [
    "print(\"Hello! World!\")"
   ]
  }
 ],
 "metadata": {
  "kernelspec": {
   "display_name": ".venv",
   "language": "python",
   "name": "python3"
  },
  "language_info": {
   "codemirror_mode": {
    "name": "ipython",
    "version": 3
   },
   "file_extension": ".py",
   "mimetype": "text/x-python",
   "name": "python",
   "nbconvert_exporter": "python",
   "pygments_lexer": "ipython3",
   "version": "3.12.7"
  }
 },
 "nbformat": 4,
 "nbformat_minor": 5
}
