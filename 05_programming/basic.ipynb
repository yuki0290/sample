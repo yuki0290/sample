{
 "cells": [
  {
   "cell_type": "code",
   "execution_count": 83,
   "id": "f0a5ff08",
   "metadata": {},
   "outputs": [
    {
     "name": "stdout",
     "output_type": "stream",
     "text": [
      "送料は無料です\n",
      "送料込税込価格は3300円です\n"
     ]
    }
   ],
   "source": [
    "#[A]:「税抜価格」をユーザーから取得し、数値に変換する\n",
    "tax_excluded_price=float(input(\"税抜価格を入力してください:\"))\n",
    "\n",
    "#[B]:「税込価格」を計算する\n",
    "tax_rate=0.10\n",
    "tax_included_price=(tax_excluded_price*(1+tax_rate))\n",
    "\n",
    "# [C]、[D]: 送料の計算（2000円以上かどうかを判定して分岐する）\n",
    "if tax_included_price >= 2000:\n",
    "    shipping_cost=0\n",
    "    print(\"送料は無料です\")\n",
    "else:\n",
    "    shipping_cost=350\n",
    "    print(f\"送料は{shipping_cost}円です\")\n",
    "\n",
    "# [E]: 送料込税込価格を計算して、変数に代入する\n",
    "total_price=(tax_included_price+shipping_cost)\n",
    "\n",
    "print(f\"送料込税込価格は{total_price:.0f}円です\")"
   ]
  },
  {
   "cell_type": "code",
   "execution_count": 62,
   "id": "43f0633d",
   "metadata": {},
   "outputs": [
    {
     "name": "stdout",
     "output_type": "stream",
     "text": [
      "7\n",
      "[2, 4, 3, 1, 5]\n",
      "3\n"
     ]
    }
   ],
   "source": [
    "import random\n",
    "print(random.randint(1,10))\n",
    "\n",
    "my_list=[1,2,3,4,5]\n",
    "random.shuffle(my_list)\n",
    "print(my_list)\n",
    "print(random.choice(my_list))"
   ]
  },
  {
   "cell_type": "code",
   "execution_count": 51,
   "id": "eee766c5",
   "metadata": {},
   "outputs": [
    {
     "name": "stdout",
     "output_type": "stream",
     "text": [
      "3.141592653589793\n"
     ]
    }
   ],
   "source": [
    "from math import sqrt,pi\n",
    "print(pi)"
   ]
  },
  {
   "cell_type": "code",
   "execution_count": 52,
   "id": "37e8a5e5",
   "metadata": {},
   "outputs": [
    {
     "name": "stdout",
     "output_type": "stream",
     "text": [
      "現在の日時 2025-04-09 13:35:29.586295\n"
     ]
    }
   ],
   "source": [
    "import datetime\n",
    "now=datetime.datetime.now()\n",
    "print(\"現在の日時\",now)"
   ]
  },
  {
   "cell_type": "code",
   "execution_count": 45,
   "id": "66e27c3a",
   "metadata": {},
   "outputs": [
    {
     "name": "stdout",
     "output_type": "stream",
     "text": [
      "現在の日時 2025-04-09 13:24:42.824586\n"
     ]
    }
   ],
   "source": [
    "import datetime as dt\n",
    "now=dt.datetime.now()\n",
    "print(\"現在の日時\",now)"
   ]
  },
  {
   "cell_type": "code",
   "execution_count": 44,
   "id": "b3eef183",
   "metadata": {},
   "outputs": [
    {
     "name": "stdout",
     "output_type": "stream",
     "text": [
      "4.0\n"
     ]
    }
   ],
   "source": [
    "import math\n",
    "print(math.sqrt(16))"
   ]
  },
  {
   "cell_type": "code",
   "execution_count": 40,
   "id": "87cd69dd",
   "metadata": {},
   "outputs": [
    {
     "name": "stdout",
     "output_type": "stream",
     "text": [
      "「udon」は回文ではないです。\n"
     ]
    }
   ],
   "source": [
    "is_palindrome(\"udon\")\n",
    "def is_palindrome(s):\n",
    "    if s == s[::-1]:\n",
    "        print(f\"「{s}」は回文です！\")\n",
    "    else:\n",
    "        print(f\"「{s}」は回文ではないです。\")\n",
    "\n"
   ]
  },
  {
   "cell_type": "code",
   "execution_count": 37,
   "id": "540bf64a",
   "metadata": {},
   "outputs": [],
   "source": [
    "is_palindrome=\"にんてんどううどんてんに\"\n",
    "def is_palindrome(s):\n",
    "    if s == s[::-1]:\n",
    "        print(f\"「{s}」は回文です！\")\n",
    "    else:\n",
    "        print(f\"「{s}」は回文ではないです。\")\n",
    "\n"
   ]
  },
  {
   "cell_type": "code",
   "execution_count": 33,
   "id": "6f8793ef",
   "metadata": {},
   "outputs": [
    {
     "name": "stdout",
     "output_type": "stream",
     "text": [
      "dict_keys(['apple', 'banana', 'cherry']) dict_values([100, 200, 300]) dict_items([('apple', 100), ('banana', 200), ('cherry', 300)])\n"
     ]
    }
   ],
   "source": [
    "fruit_prices={\"apple\":100,\"banana\":200,\"cherry\":300}\n",
    "print(fruit_prices.keys(),fruit_prices.values(),fruit_prices.items())"
   ]
  },
  {
   "cell_type": "code",
   "execution_count": 32,
   "id": "2fe0a699",
   "metadata": {},
   "outputs": [
    {
     "name": "stdout",
     "output_type": "stream",
     "text": [
      "{} 200\n"
     ]
    }
   ],
   "source": [
    "fruit_prices={\"apple\":100,\"banana\":200,\"cherry\":300}\n",
    "\n",
    "del_price=fruit_prices.pop(\"banana\")\n",
    "del fruit_prices[\"cherry\"]\n",
    "fruit_prices.clear()\n",
    "\n",
    "print(fruit_prices,del_price)"
   ]
  },
  {
   "cell_type": "code",
   "execution_count": 30,
   "id": "193c90b1",
   "metadata": {},
   "outputs": [
    {
     "name": "stdout",
     "output_type": "stream",
     "text": [
      "{'apple': 100, 'banana': 180, 'grape': 400}\n"
     ]
    }
   ],
   "source": [
    "fruit_prices={\"apple\":100,\"banana\":200}\n",
    "fruit_prices[\"grape\"]=400\n",
    "fruit_prices[\"banana\"]=180\n",
    "\n",
    "print(fruit_prices)"
   ]
  },
  {
   "cell_type": "code",
   "execution_count": 29,
   "id": "2fea65b5",
   "metadata": {},
   "outputs": [
    {
     "name": "stdout",
     "output_type": "stream",
     "text": [
      "100\n"
     ]
    }
   ],
   "source": [
    "fruit_prices={\"apple\":100,\"banana\":200,\"cherry\":300}\n",
    "print(fruit_prices[\"apple\"])"
   ]
  },
  {
   "cell_type": "code",
   "execution_count": 28,
   "id": "cfb8407c",
   "metadata": {},
   "outputs": [
    {
     "name": "stdout",
     "output_type": "stream",
     "text": [
      "{'name': 'Bob', 'age': 30, 'is_student': True} {'apple': 100, 'banana': 200}\n"
     ]
    }
   ],
   "source": [
    "person = dict(name=\"Bob\", age=30, is_student=True)\n",
    "pairs = [(\"apple\", 100), (\"banana\", 200)]\n",
    "fruit_prices = dict(pairs)\n",
    "\n",
    "print(person, fruit_prices)"
   ]
  },
  {
   "cell_type": "code",
   "execution_count": 27,
   "id": "7311b133",
   "metadata": {},
   "outputs": [
    {
     "name": "stdout",
     "output_type": "stream",
     "text": [
      "{'one': 1, 'two': 2, 'three': 3} {'name': 'Alice', 'age': 25, 'is_student': False} {}\n"
     ]
    }
   ],
   "source": [
    "numbers={\"one\":1,\"two\":2,\"three\":3}\n",
    "person={\"name\":\"Alice\",\"age\":25,\"is_student\":False}\n",
    "empty_dict={}\n",
    "\n",
    "print(numbers,person,empty_dict)"
   ]
  },
  {
   "cell_type": "code",
   "execution_count": 25,
   "id": "6ffc55ec",
   "metadata": {},
   "outputs": [
    {
     "ename": "NameError",
     "evalue": "name 'matrix' is not defined",
     "output_type": "error",
     "traceback": [
      "\u001b[31m---------------------------------------------------------------------------\u001b[39m",
      "\u001b[31mNameError\u001b[39m                                 Traceback (most recent call last)",
      "\u001b[36mCell\u001b[39m\u001b[36m \u001b[39m\u001b[32mIn[25]\u001b[39m\u001b[32m, line 1\u001b[39m\n\u001b[32m----> \u001b[39m\u001b[32m1\u001b[39m \u001b[38;5;28;01mfor\u001b[39;00m row \u001b[38;5;129;01min\u001b[39;00m \u001b[43mmatrix\u001b[49m:\n\u001b[32m      2\u001b[39m     \u001b[38;5;28;01mfor\u001b[39;00m element \u001b[38;5;129;01min\u001b[39;00m row:\n\u001b[32m      3\u001b[39m         \u001b[38;5;28mprint\u001b[39m(element,end=\u001b[33m\"\u001b[39m\u001b[33m\"\u001b[39m)\n",
      "\u001b[31mNameError\u001b[39m: name 'matrix' is not defined"
     ]
    }
   ],
   "source": [
    "for row in matrix:\n",
    "    for element in row:\n",
    "        print(element,end=\"\")\n",
    "    print()"
   ]
  },
  {
   "cell_type": "code",
   "execution_count": 24,
   "id": "7f14fc6b",
   "metadata": {},
   "outputs": [
    {
     "name": "stdout",
     "output_type": "stream",
     "text": [
      "[1, 1, 2, 3, 4, 5, 9]\n"
     ]
    }
   ],
   "source": [
    "numbers=[3,1,4,1,5,9,2]\n",
    "numbers.sort()\n",
    "print(numbers)"
   ]
  },
  {
   "cell_type": "code",
   "execution_count": 23,
   "id": "bc4018d4",
   "metadata": {},
   "outputs": [
    {
     "name": "stdout",
     "output_type": "stream",
     "text": [
      "[1, 1, 2, 3, 4, 5, 9] [9, 5, 4, 3, 2, 1, 1]\n"
     ]
    }
   ],
   "source": [
    "numbers=[3,1,4,1,5,9,2]\n",
    "numbers.sort()\n",
    "sorted_numbers=sorted(numbers,reverse=True)\n",
    "\n",
    "print(numbers,sorted_numbers)"
   ]
  },
  {
   "cell_type": "code",
   "execution_count": 22,
   "id": "dc958a64",
   "metadata": {},
   "outputs": [
    {
     "name": "stdout",
     "output_type": "stream",
     "text": [
      "2は存在するか: True\n",
      "2の出現回数: 3\n",
      "2の最初の位置: 1\n"
     ]
    }
   ],
   "source": [
    "numbers=[1,2,3,2,4,2]\n",
    "print(\"2は存在するか:\",2 in numbers)\n",
    "print(\"2の出現回数:\",numbers.count(2))\n",
    "print(\"2の最初の位置:\",numbers.index(2))"
   ]
  },
  {
   "cell_type": "code",
   "execution_count": 20,
   "id": "daad15b9",
   "metadata": {},
   "outputs": [
    {
     "name": "stdout",
     "output_type": "stream",
     "text": [
      "[1, 2, 3, 4, 5, 6] [1, 2, 3, 4, 5, 6]\n"
     ]
    }
   ],
   "source": [
    "list1=[1,2,3]\n",
    "list2=[4,5,6]\n",
    "combined=list1+list2\n",
    "list1.extend(list2)\n",
    "\n",
    "print(combined,list1)"
   ]
  },
  {
   "cell_type": "code",
   "execution_count": 19,
   "id": "ef0fa852",
   "metadata": {},
   "outputs": [
    {
     "name": "stdout",
     "output_type": "stream",
     "text": [
      "['apple', 'grape', 'banana', 'cherry', 'mango', 'kiwi', 'pear']\n"
     ]
    }
   ],
   "source": [
    "fruits.append(\"mango\")\n",
    "fruits.insert(1,\"grape\")\n",
    "fruits.extend([\"kiwi\",\"pear\"])\n",
    "print(fruits)"
   ]
  },
  {
   "cell_type": "code",
   "execution_count": 18,
   "id": "22436eb0",
   "metadata": {},
   "outputs": [
    {
     "name": "stdout",
     "output_type": "stream",
     "text": [
      "[1, 2] [0, 1, 2] [2, 3, 4, 5] [5, 4, 3, 2, 1, 0]\n"
     ]
    }
   ],
   "source": [
    "numbers = [0, 1, 2, 3, 4, 5]\n",
    "print(numbers[1:3], numbers[:3], numbers[2:], numbers[::-1])"
   ]
  },
  {
   "cell_type": "code",
   "execution_count": 17,
   "id": "4caa3c26",
   "metadata": {},
   "outputs": [
    {
     "name": "stdout",
     "output_type": "stream",
     "text": [
      "[1, 2, 3] [1, 2, 3] [1, 2, 3]\n"
     ]
    }
   ],
   "source": [
    "original=[1,2,3]\n",
    "copy=original[:]\n",
    "copy2=list(original)\n",
    "copy3=original.copy()\n",
    "\n",
    "print(copy,copy2,copy3)"
   ]
  },
  {
   "cell_type": "code",
   "execution_count": 16,
   "id": "64d840b6",
   "metadata": {},
   "outputs": [
    {
     "name": "stdout",
     "output_type": "stream",
     "text": [
      "[None, None, None, None, None] [0, 0, 0, 0, 0, 0, 0, 0, 0, 0]\n"
     ]
    }
   ],
   "source": [
    "none_list=[None]*5\n",
    "zeros=[0]*10\n",
    "\n",
    "print(none_list,zeros)"
   ]
  },
  {
   "cell_type": "code",
   "execution_count": 15,
   "id": "fef8da5a",
   "metadata": {},
   "outputs": [
    {
     "name": "stdout",
     "output_type": "stream",
     "text": [
      "['h', 'e', 'l', 'l', 'o'] [1, 2, 3] [0, 1, 2, 3, 4]\n"
     ]
    }
   ],
   "source": [
    "string_to_list = list(\"hello\")\n",
    "tuple_to_list = list((1, 2, 3))\n",
    "range_to_list = list(range(5))\n",
    "\n",
    "print(string_to_list, tuple_to_list, range_to_list)\n"
   ]
  },
  {
   "cell_type": "code",
   "execution_count": 14,
   "id": "39446e1d",
   "metadata": {},
   "outputs": [
    {
     "name": "stdout",
     "output_type": "stream",
     "text": [
      "[1, 2, 3, 4, 5] ['apple', 'banana', 'cherry'] [1, 'apple', 3.14, True] []\n"
     ]
    }
   ],
   "source": [
    "numbers=[1,2,3,4,5]\n",
    "fruits=[\"apple\",\"banana\",\"cherry\"]\n",
    "mixed=[1,\"apple\",3.14,True]\n",
    "empty_list=[]\n",
    "\n",
    "print(numbers,fruits,mixed,empty_list)"
   ]
  },
  {
   "cell_type": "code",
   "execution_count": 13,
   "id": "c2ae92b7",
   "metadata": {},
   "outputs": [
    {
     "name": "stdout",
     "output_type": "stream",
     "text": [
      "「にんてんどううどんてんには回文です」\n"
     ]
    }
   ],
   "source": [
    "s=\"にんてんどううどんてんに\"\n",
    "if s==s[::-1]:\n",
    "    print(f\"「{s}は回文です」\")\n",
    "else:\n",
    "    print(f\"「{s}は回文ではありません」\")"
   ]
  },
  {
   "cell_type": "code",
   "execution_count": 11,
   "id": "d7df1bed",
   "metadata": {},
   "outputs": [
    {
     "name": "stdout",
     "output_type": "stream",
     "text": [
      "にんてんどううどんてんに\n"
     ]
    }
   ],
   "source": [
    "s=\"にんてんどううどんてんに\"\n",
    "print(s[::-1])\n"
   ]
  },
  {
   "cell_type": "code",
   "execution_count": 7,
   "id": "bc14aa64",
   "metadata": {},
   "outputs": [
    {
     "name": "stdout",
     "output_type": "stream",
     "text": [
      "長い文字列です\n",
      "11\n"
     ]
    }
   ],
   "source": [
    "s=\"TechAcademy\"\n",
    "\n",
    "if len(s)>10:\n",
    "    print(\"長い文字列です\")\n",
    "if len(s)<5:\n",
    "    print(\"短い文字列です\")\n",
    "else:\n",
    "    print(len(s))"
   ]
  },
  {
   "cell_type": "code",
   "execution_count": 21,
   "id": "d4344fd5",
   "metadata": {},
   "outputs": [
    {
     "name": "stdout",
     "output_type": "stream",
     "text": [
      "T\n",
      "E\n",
      "C\n",
      "H\n",
      "A\n",
      "C\n",
      "A\n",
      "D\n",
      "E\n",
      "M\n",
      "Y\n"
     ]
    }
   ],
   "source": [
    "s=\"TechAcademy\"\n",
    "for char in s:\n",
    "    print(char.upper())"
   ]
  },
  {
   "cell_type": "code",
   "execution_count": 20,
   "id": "d64c3a86",
   "metadata": {},
   "outputs": [
    {
     "name": "stdout",
     "output_type": "stream",
     "text": [
      "abcdefg\n",
      "vwxyz\n",
      "acegikmoqsuwy\n"
     ]
    }
   ],
   "source": [
    "s=\"abcdefghijklmnopqrstuvwxyz\"\n",
    "print(s[0:7])\n",
    "print(s[-5:])\n",
    "print(s[::2])"
   ]
  },
  {
   "cell_type": "code",
   "execution_count": 19,
   "id": "b4c87780",
   "metadata": {},
   "outputs": [
    {
     "name": "stdout",
     "output_type": "stream",
     "text": [
      "エラー：整数を入力してください\n"
     ]
    }
   ],
   "source": [
    "try:\n",
    "    num=int(input(\"整数を入力してください:\"))\n",
    "    result=100/num\n",
    "    print(f\"100を{num}で割った結果は{result}です\")\n",
    "except ZeroDivisionError:\n",
    "    print(\"エラー：0で割ることはできません\")\n",
    "except ValueError:\n",
    "    print(\"エラー：整数を入力してください\")"
   ]
  },
  {
   "cell_type": "code",
   "execution_count": 14,
   "id": "9c2a4b00",
   "metadata": {},
   "outputs": [
    {
     "ename": "ValueError",
     "evalue": "invalid literal for int() with base 10: 'a'",
     "output_type": "error",
     "traceback": [
      "\u001b[31m---------------------------------------------------------------------------\u001b[39m",
      "\u001b[31mValueError\u001b[39m                                Traceback (most recent call last)",
      "\u001b[36mCell\u001b[39m\u001b[36m \u001b[39m\u001b[32mIn[14]\u001b[39m\u001b[32m, line 1\u001b[39m\n\u001b[32m----> \u001b[39m\u001b[32m1\u001b[39m score =\u001b[38;5;28;43mint\u001b[39;49m\u001b[43m(\u001b[49m\u001b[38;5;28;43minput\u001b[39;49m\u001b[43m(\u001b[49m\u001b[33;43m\"\u001b[39;49m\u001b[33;43m点数を入力してください:\u001b[39;49m\u001b[33;43m\"\u001b[39;49m\u001b[43m)\u001b[49m\u001b[43m)\u001b[49m\n",
      "\u001b[31mValueError\u001b[39m: invalid literal for int() with base 10: 'a'"
     ]
    }
   ],
   "source": [
    "score =int(input(\"点数を入力してください:\"))"
   ]
  },
  {
   "cell_type": "code",
   "execution_count": 13,
   "id": "1a30baed",
   "metadata": {},
   "outputs": [
    {
     "name": "stdout",
     "output_type": "stream",
     "text": [
      "1\n",
      "3\n",
      "5\n",
      "7\n",
      "9\n",
      "処理を終了します\n"
     ]
    }
   ],
   "source": [
    "i=0\n",
    "while True:\n",
    "    i+=1\n",
    "    if i>10:\n",
    "        break\n",
    "    if i%2==0:\n",
    "        continue\n",
    "    print(i)\n",
    "print(\"処理を終了します\")"
   ]
  },
  {
   "cell_type": "code",
   "execution_count": 11,
   "id": "d9142799",
   "metadata": {},
   "outputs": [
    {
     "name": "stdout",
     "output_type": "stream",
     "text": [
      "1\n",
      "2\n",
      "3\n",
      "4\n",
      "5\n",
      "6\n",
      "7\n",
      "8\n",
      "9\n",
      "処理を終了します\n"
     ]
    }
   ],
   "source": [
    "i=0\n",
    "while True:\n",
    "    i+=1\n",
    "    if i>9:\n",
    "        break\n",
    "    print(i)\n",
    "print(\"処理を終了します\")"
   ]
  },
  {
   "cell_type": "code",
   "execution_count": 9,
   "id": "be8dc8fd",
   "metadata": {},
   "outputs": [
    {
     "name": "stdout",
     "output_type": "stream",
     "text": [
      "1\n",
      "2\n",
      "3\n",
      "4\n",
      "5\n",
      "処理を終了します\n"
     ]
    }
   ],
   "source": [
    "i=0\n",
    "while i<5:\n",
    "    i+=1\n",
    "    print(i)\n",
    "print(\"処理を終了します\")"
   ]
  },
  {
   "cell_type": "code",
   "execution_count": 7,
   "id": "0f2981d1",
   "metadata": {},
   "outputs": [
    {
     "name": "stdout",
     "output_type": "stream",
     "text": [
      "2\n",
      "4\n",
      "6\n",
      "8\n",
      "10\n",
      "12\n",
      "14\n",
      "16\n",
      "18\n",
      "20\n"
     ]
    }
   ],
   "source": [
    "for i in range (2,21,2):\n",
    "    print(i)"
   ]
  },
  {
   "cell_type": "code",
   "execution_count": 3,
   "id": "c1264ba7",
   "metadata": {},
   "outputs": [
    {
     "name": "stdout",
     "output_type": "stream",
     "text": [
      "0\n",
      "1\n",
      "2\n",
      "3\n",
      "4\n",
      "5\n",
      "6\n",
      "7\n",
      "8\n",
      "9\n",
      "10\n"
     ]
    }
   ],
   "source": [
    "for i in range(11):\n",
    "    print(i)"
   ]
  },
  {
   "cell_type": "code",
   "execution_count": 10,
   "id": "9f449b95",
   "metadata": {},
   "outputs": [
    {
     "name": "stdout",
     "output_type": "stream",
     "text": [
      "a & b: 0b1000\n",
      "a << 1: 0b11000\n"
     ]
    }
   ],
   "source": [
    "a = 0b1100  # 12\n",
    "b = 0b1010  # 10\n",
    "print(\"a & b:\", bin(a & b))  # 0b1000\n",
    "print(\"a << 1:\", bin(a << 1))  # 0b11000"
   ]
  },
  {
   "cell_type": "code",
   "execution_count": 2,
   "id": "84a7b697",
   "metadata": {},
   "outputs": [
    {
     "name": "stdout",
     "output_type": "stream",
     "text": [
      "合格です\n",
      "おめでとうございます！\n",
      "処理を終了します\n"
     ]
    }
   ],
   "source": [
    "score=int(input(\"点数を入力してください：\"))\n",
    "if score >= 60:\n",
    "    print(\"合格です\")\n",
    "    print(\"おめでとうございます！\")\n",
    "elif score >=90:\n",
    "    print(\"優秀です\")\n",
    "    print(\"大変よくできました\")\n",
    "else:\n",
    "   print(\"不合格です\")\n",
    "   print(\"もっとがんばりましょう\")\n",
    "\n",
    "print(\"処理を終了します\")\n",
    "\n"
   ]
  },
  {
   "cell_type": "code",
   "execution_count": 9,
   "id": "c1cbb06a",
   "metadata": {},
   "outputs": [
    {
     "name": "stdout",
     "output_type": "stream",
     "text": [
      "10 < x and x < 20: True\n",
      "not (x == 15): False\n"
     ]
    }
   ],
   "source": [
    "x = 15\n",
    "print(\"10 < x and x < 20:\", 10 < x and x < 20)  # True\n",
    "print(\"not (x == 15):\", not (x == 15))  # False"
   ]
  },
  {
   "cell_type": "code",
   "execution_count": 8,
   "id": "64e40c30",
   "metadata": {},
   "outputs": [
    {
     "name": "stdout",
     "output_type": "stream",
     "text": [
      "100 < x < 200: True\n"
     ]
    }
   ],
   "source": [
    "x = 150\n",
    "print(\"100 < x < 200:\", 100 < x < 200)  # True\n"
   ]
  },
  {
   "cell_type": "code",
   "execution_count": 7,
   "id": "258a75dc",
   "metadata": {},
   "outputs": [
    {
     "name": "stdout",
     "output_type": "stream",
     "text": [
      "True\n"
     ]
    }
   ],
   "source": [
    "x = 150\n",
    "print(100 < x < 200)  # True"
   ]
  },
  {
   "cell_type": "code",
   "execution_count": 5,
   "id": "3d6ffe64",
   "metadata": {},
   "outputs": [
    {
     "name": "stdout",
     "output_type": "stream",
     "text": [
      "PYTHON\n",
      "python\n"
     ]
    }
   ],
   "source": [
    "text = \"Python\"\n",
    "print(text.upper())  # 'PYTHON'\n",
    "print(text.lower())  # 'python'"
   ]
  },
  {
   "cell_type": "code",
   "execution_count": 6,
   "id": "88a65040",
   "metadata": {},
   "outputs": [
    {
     "name": "stdout",
     "output_type": "stream",
     "text": [
      "x += 5: 15\n",
      "x *= 2: 30\n"
     ]
    }
   ],
   "source": [
    "x = 10\n",
    "x += 5\n",
    "print(\"x += 5:\", x)  # 15\n",
    "x *= 2\n",
    "print(\"x *= 2:\", x)  # 30"
   ]
  },
  {
   "cell_type": "code",
   "execution_count": 4,
   "id": "287e7236",
   "metadata": {},
   "outputs": [
    {
     "name": "stdout",
     "output_type": "stream",
     "text": [
      "3\n"
     ]
    }
   ],
   "source": [
    "print(10 // 3)  # 3"
   ]
  },
  {
   "cell_type": "code",
   "execution_count": 3,
   "id": "8c220c71",
   "metadata": {},
   "outputs": [
    {
     "name": "stdout",
     "output_type": "stream",
     "text": [
      "3.3333333333333335\n"
     ]
    }
   ],
   "source": [
    "print(10 / 3)   # 3.3333333"
   ]
  },
  {
   "cell_type": "code",
   "execution_count": 2,
   "id": "c2ffb447",
   "metadata": {},
   "outputs": [
    {
     "name": "stdout",
     "output_type": "stream",
     "text": [
      "5\n"
     ]
    }
   ],
   "source": [
    "a = 10\n",
    "b = -5\n",
    "c = 0\n",
    "print(a + b)  # 5"
   ]
  },
  {
   "cell_type": "code",
   "execution_count": 1,
   "id": "cd29fe67",
   "metadata": {},
   "outputs": [
    {
     "name": "stdout",
     "output_type": "stream",
     "text": [
      "3科目の平均点は 83.33333333333333 点です\n"
     ]
    }
   ],
   "source": [
    "# 各科目の点数を変数として定義\n",
    "japanese = 85  # 国語\n",
    "math = 90      # 数学\n",
    "english = 75   # 英語\n",
    "\n",
    "# 平均点を計算\n",
    "average = (japanese + math + english) / 3\n",
    "\n",
    "# 結果を表示\n",
    "print(\"3科目の平均点は\", average, \"点です\")\n"
   ]
  }
 ],
 "metadata": {
  "kernelspec": {
   "display_name": ".venv",
   "language": "python",
   "name": "python3"
  },
  "language_info": {
   "codemirror_mode": {
    "name": "ipython",
    "version": 3
   },
   "file_extension": ".py",
   "mimetype": "text/x-python",
   "name": "python",
   "nbconvert_exporter": "python",
   "pygments_lexer": "ipython3",
   "version": "3.12.7"
  }
 },
 "nbformat": 4,
 "nbformat_minor": 5
}
